{
 "cells": [
  {
   "cell_type": "code",
   "execution_count": 3,
   "id": "f7a8947a-afaf-4c3c-bbb9-add26fba6005",
   "metadata": {},
   "outputs": [
    {
     "name": "stderr",
     "output_type": "stream",
     "text": [
      "[nltk_data] Downloading package punkt to /root/nltk_data...\n",
      "[nltk_data]   Package punkt is already up-to-date!\n",
      "[nltk_data] Downloading package punkt_tab to /root/nltk_data...\n",
      "[nltk_data]   Package punkt_tab is already up-to-date!\n"
     ]
    },
    {
     "data": {
      "text/plain": [
       "True"
      ]
     },
     "execution_count": 3,
     "metadata": {},
     "output_type": "execute_result"
    }
   ],
   "source": [
    "import nltk\n",
    "from nltk.tokenize import word_tokenize\n",
    "\n",
    "# Download the tokenizer if you haven't already\n",
    "nltk.download('punkt')\n",
    "nltk.download('punkt_tab')"
   ]
  },
  {
   "cell_type": "code",
   "execution_count": 4,
   "id": "dfda6d40-d1f5-4ccd-abbc-341ba2e83e7c",
   "metadata": {},
   "outputs": [],
   "source": [
    "from joblib import load\n",
    "\n",
    "word_to_index = load('Embeddings/word_to_index.joblib')"
   ]
  },
  {
   "cell_type": "code",
   "execution_count": 5,
   "id": "74b7bd37-0807-42e1-ac59-f920d7b5f29c",
   "metadata": {},
   "outputs": [],
   "source": [
    "def loadModel():\n",
    "    import numpy as np\n",
    "    import tensorflow as tf\n",
    "    np.random.seed(0)\n",
    "    from tensorflow.keras.models import Model\n",
    "    from tensorflow.keras.layers import Dense, Input, Dropout, LSTM, Activation\n",
    "    from tensorflow.keras.layers import Embedding\n",
    "    from tensorflow.keras.preprocessing import sequence\n",
    "    from tensorflow.keras.initializers import glorot_uniform\n",
    "    np.random.seed(1)\n",
    "    \n",
    "    # Registering the Custom Embedding Layer\n",
    "    @tf.keras.utils.register_keras_serializable(package=\"CustomLayers\")\n",
    "    class SerializableEmbedding(Embedding):\n",
    "        def get_config(self):\n",
    "            config = super().get_config()\n",
    "            return config\n",
    "\n",
    "    model=tf.keras.models.load_model('Review Detector2.keras')\n",
    "\n",
    "    return model"
   ]
  },
  {
   "cell_type": "code",
   "execution_count": 6,
   "id": "9800192f-e4b8-4040-99a1-b1e97556d15b",
   "metadata": {},
   "outputs": [],
   "source": [
    "def convert_and_pad(tokens, max_len=510, pad_value=0, unk_index=0):\n",
    "    # Convert words to indices using the dictionary, use unk_index if word not found\n",
    "    indexed_tokens=[]\n",
    "    for word in tokens:\n",
    "        if word in word_to_index.keys():\n",
    "            idx=word_to_index.get(word)\n",
    "            indexed_tokens.append(idx)\n",
    "    #indexed_tokens = [word_to_index.get(word, unk_index) for word in tokens]\n",
    "    \n",
    "    # Pad or truncate to the required length\n",
    "    if len(indexed_tokens) < max_len:\n",
    "        indexed_tokens += [pad_value] * (max_len - len(indexed_tokens))  # Pad\n",
    "    else:\n",
    "        indexed_tokens = indexed_tokens[:max_len]  # Truncate if too long\n",
    "    \n",
    "    return indexed_tokens"
   ]
  },
  {
   "cell_type": "code",
   "execution_count": 28,
   "id": "5d4289b0-d563-43ca-8306-2e305187f194",
   "metadata": {},
   "outputs": [],
   "source": [
    "def predict(text):\n",
    "    # Example sentence\n",
    "    sentence = text.lower()\n",
    "    \n",
    "    # Tokenizing the sentence\n",
    "    tokens = word_tokenize(sentence)\n",
    "\n",
    "    indexed_tokens=convert_and_pad(tokens)\n",
    "\n",
    "    data=np.array(indexed_tokens).reshape(1,-1)\n",
    "\n",
    "    prediction=model.predict(data)\n",
    "    prediction=prediction[0][0]\n",
    "    if(prediction>0.5):\n",
    "        return [\"Human Written\",round(prediction*100,2)]\n",
    "    else:\n",
    "        return [\"Machine Generated\",round((1-prediction)*100,2)]\n",
    "    "
   ]
  },
  {
   "cell_type": "code",
   "execution_count": 10,
   "id": "6c8c57b9-171b-4376-b47f-b9f5b069c590",
   "metadata": {},
   "outputs": [],
   "source": [
    "import numpy as np"
   ]
  },
  {
   "cell_type": "code",
   "execution_count": 7,
   "id": "298b1034-9bc4-4eae-a353-4a42d0aedd61",
   "metadata": {},
   "outputs": [
    {
     "name": "stderr",
     "output_type": "stream",
     "text": [
      "2025-02-17 12:34:37.275564: I tensorflow/core/util/port.cc:113] oneDNN custom operations are on. You may see slightly different numerical results due to floating-point round-off errors from different computation orders. To turn them off, set the environment variable `TF_ENABLE_ONEDNN_OPTS=0`.\n",
      "2025-02-17 12:34:37.447311: E external/local_xla/xla/stream_executor/cuda/cuda_fft.cc:479] Unable to register cuFFT factory: Attempting to register factory for plugin cuFFT when one has already been registered\n",
      "2025-02-17 12:34:37.532603: E external/local_xla/xla/stream_executor/cuda/cuda_dnn.cc:10575] Unable to register cuDNN factory: Attempting to register factory for plugin cuDNN when one has already been registered\n",
      "2025-02-17 12:34:37.533388: E external/local_xla/xla/stream_executor/cuda/cuda_blas.cc:1442] Unable to register cuBLAS factory: Attempting to register factory for plugin cuBLAS when one has already been registered\n",
      "2025-02-17 12:34:37.676344: I tensorflow/core/platform/cpu_feature_guard.cc:210] This TensorFlow binary is optimized to use available CPU instructions in performance-critical operations.\n",
      "To enable the following instructions: AVX2 AVX_VNNI FMA, in other operations, rebuild TensorFlow with the appropriate compiler flags.\n",
      "2025-02-17 12:34:38.686519: W tensorflow/compiler/tf2tensorrt/utils/py_utils.cc:38] TF-TRT Warning: Could not find TensorRT\n",
      "/home/tensor/anaconda3/envs/tensor_check/lib/python3.11/site-packages/requests/__init__.py:86: RequestsDependencyWarning: Unable to find acceptable character detection dependency (chardet or charset_normalizer).\n",
      "  warnings.warn(\n",
      "2025-02-17 12:34:41.923685: I external/local_xla/xla/stream_executor/cuda/cuda_executor.cc:984] could not open file to read NUMA node: /sys/bus/pci/devices/0000:01:00.0/numa_node\n",
      "Your kernel may have been built without NUMA support.\n",
      "2025-02-17 12:34:42.055958: I external/local_xla/xla/stream_executor/cuda/cuda_executor.cc:984] could not open file to read NUMA node: /sys/bus/pci/devices/0000:01:00.0/numa_node\n",
      "Your kernel may have been built without NUMA support.\n",
      "2025-02-17 12:34:42.056005: I external/local_xla/xla/stream_executor/cuda/cuda_executor.cc:984] could not open file to read NUMA node: /sys/bus/pci/devices/0000:01:00.0/numa_node\n",
      "Your kernel may have been built without NUMA support.\n",
      "2025-02-17 12:34:42.059355: I external/local_xla/xla/stream_executor/cuda/cuda_executor.cc:984] could not open file to read NUMA node: /sys/bus/pci/devices/0000:01:00.0/numa_node\n",
      "Your kernel may have been built without NUMA support.\n",
      "2025-02-17 12:34:42.059410: I external/local_xla/xla/stream_executor/cuda/cuda_executor.cc:984] could not open file to read NUMA node: /sys/bus/pci/devices/0000:01:00.0/numa_node\n",
      "Your kernel may have been built without NUMA support.\n",
      "2025-02-17 12:34:42.059430: I external/local_xla/xla/stream_executor/cuda/cuda_executor.cc:984] could not open file to read NUMA node: /sys/bus/pci/devices/0000:01:00.0/numa_node\n",
      "Your kernel may have been built without NUMA support.\n",
      "2025-02-17 12:34:42.224546: I external/local_xla/xla/stream_executor/cuda/cuda_executor.cc:984] could not open file to read NUMA node: /sys/bus/pci/devices/0000:01:00.0/numa_node\n",
      "Your kernel may have been built without NUMA support.\n",
      "2025-02-17 12:34:42.224608: I external/local_xla/xla/stream_executor/cuda/cuda_executor.cc:984] could not open file to read NUMA node: /sys/bus/pci/devices/0000:01:00.0/numa_node\n",
      "Your kernel may have been built without NUMA support.\n",
      "2025-02-17 12:34:42.224614: I tensorflow/core/common_runtime/gpu/gpu_device.cc:2019] Could not identify NUMA node of platform GPU id 0, defaulting to 0.  Your kernel may not have been built with NUMA support.\n",
      "2025-02-17 12:34:42.224642: I external/local_xla/xla/stream_executor/cuda/cuda_executor.cc:984] could not open file to read NUMA node: /sys/bus/pci/devices/0000:01:00.0/numa_node\n",
      "Your kernel may have been built without NUMA support.\n",
      "2025-02-17 12:34:42.225058: I tensorflow/core/common_runtime/gpu/gpu_device.cc:1928] Created device /job:localhost/replica:0/task:0/device:GPU:0 with 1767 MB memory:  -> device: 0, name: NVIDIA GeForce RTX 3050 Laptop GPU, pci bus id: 0000:01:00.0, compute capability: 8.6\n",
      "/home/tensor/anaconda3/envs/tensor_check/lib/python3.11/site-packages/keras/src/saving/saving_lib.py:576: UserWarning: Skipping variable loading for optimizer 'rmsprop', because it has 7 variables whereas the saved optimizer has 2 variables. \n",
      "  saveable.load_own_variables(weights_store.get(inner_path))\n"
     ]
    }
   ],
   "source": [
    "model=loadModel()"
   ]
  },
  {
   "cell_type": "code",
   "execution_count": 31,
   "id": "923831cc-5871-4fc5-8ecb-131a194ab77f",
   "metadata": {},
   "outputs": [
    {
     "name": "stdout",
     "output_type": "stream",
     "text": [
      "\u001b[1m1/1\u001b[0m \u001b[32m━━━━━━━━━━━━━━━━━━━━\u001b[0m\u001b[37m\u001b[0m \u001b[1m0s\u001b[0m 17ms/step\n",
      "Review Analysis: Machine Generated  (99.98%)\n"
     ]
    }
   ],
   "source": [
    "review=\"I enjoy watching this movie.  I love the movie.  It's one of the funniest\"\n",
    "pred=predict(review)\n",
    "print(\"Review Analysis:\",pred[0],f' ({pred[1]}%)')"
   ]
  }
 ],
 "metadata": {
  "kernelspec": {
   "display_name": "Python 3 (ipykernel)",
   "language": "python",
   "name": "python3"
  },
  "language_info": {
   "codemirror_mode": {
    "name": "ipython",
    "version": 3
   },
   "file_extension": ".py",
   "mimetype": "text/x-python",
   "name": "python",
   "nbconvert_exporter": "python",
   "pygments_lexer": "ipython3",
   "version": "3.11.9"
  }
 },
 "nbformat": 4,
 "nbformat_minor": 5
}
