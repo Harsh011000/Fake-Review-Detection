{
 "cells": [
  {
   "cell_type": "code",
   "execution_count": 1,
   "id": "d4e1c090-7bbb-465d-ad2f-2c53da36c3e6",
   "metadata": {},
   "outputs": [],
   "source": [
    "import pandas as pd"
   ]
  },
  {
   "cell_type": "code",
   "execution_count": 2,
   "id": "4f7911a5-4cc8-4040-b58e-dc2d45c2146f",
   "metadata": {},
   "outputs": [
    {
     "data": {
      "text/html": [
       "<div>\n",
       "<style scoped>\n",
       "    .dataframe tbody tr th:only-of-type {\n",
       "        vertical-align: middle;\n",
       "    }\n",
       "\n",
       "    .dataframe tbody tr th {\n",
       "        vertical-align: top;\n",
       "    }\n",
       "\n",
       "    .dataframe thead th {\n",
       "        text-align: right;\n",
       "    }\n",
       "</style>\n",
       "<table border=\"1\" class=\"dataframe\">\n",
       "  <thead>\n",
       "    <tr style=\"text-align: right;\">\n",
       "      <th></th>\n",
       "      <th>padded_indices</th>\n",
       "      <th>label</th>\n",
       "    </tr>\n",
       "  </thead>\n",
       "  <tbody>\n",
       "    <tr>\n",
       "      <th>0</th>\n",
       "      <td>[226278, 358160, 1, 385218, 229835, 452, 34532...</td>\n",
       "      <td>0</td>\n",
       "    </tr>\n",
       "    <tr>\n",
       "      <th>1</th>\n",
       "      <td>[226278, 193716, 452, 43010, 166369, 373416, 1...</td>\n",
       "      <td>0</td>\n",
       "    </tr>\n",
       "    <tr>\n",
       "      <th>2</th>\n",
       "      <td>[358160, 284764, 319421, 254258, 65680, 867, 1...</td>\n",
       "      <td>0</td>\n",
       "    </tr>\n",
       "    <tr>\n",
       "      <th>3</th>\n",
       "      <td>[246283, 189825, 269798, 182540, 360915, 37416...</td>\n",
       "      <td>0</td>\n",
       "    </tr>\n",
       "    <tr>\n",
       "      <th>4</th>\n",
       "      <td>[377946, 260760, 325899, 867, 164328, 297112, ...</td>\n",
       "      <td>0</td>\n",
       "    </tr>\n",
       "    <tr>\n",
       "      <th>...</th>\n",
       "      <td>...</td>\n",
       "      <td>...</td>\n",
       "    </tr>\n",
       "    <tr>\n",
       "      <th>40427</th>\n",
       "      <td>[185457, 170714, 302207, 337259, 307261, 31974...</td>\n",
       "      <td>1</td>\n",
       "    </tr>\n",
       "    <tr>\n",
       "      <th>40428</th>\n",
       "      <td>[185457, 383514, 254961, 348374, 142250, 38630...</td>\n",
       "      <td>0</td>\n",
       "    </tr>\n",
       "    <tr>\n",
       "      <th>40429</th>\n",
       "      <td>[394475, 90548, 384428, 357266, 181430, 88126,...</td>\n",
       "      <td>1</td>\n",
       "    </tr>\n",
       "    <tr>\n",
       "      <th>40430</th>\n",
       "      <td>[185457, 222477, 264612, 44608, 358160, 129285...</td>\n",
       "      <td>0</td>\n",
       "    </tr>\n",
       "    <tr>\n",
       "      <th>40431</th>\n",
       "      <td>[185457, 389836, 188481, 357266, 384638, 18946...</td>\n",
       "      <td>1</td>\n",
       "    </tr>\n",
       "  </tbody>\n",
       "</table>\n",
       "<p>40432 rows × 2 columns</p>\n",
       "</div>"
      ],
      "text/plain": [
       "                                          padded_indices  label\n",
       "0      [226278, 358160, 1, 385218, 229835, 452, 34532...      0\n",
       "1      [226278, 193716, 452, 43010, 166369, 373416, 1...      0\n",
       "2      [358160, 284764, 319421, 254258, 65680, 867, 1...      0\n",
       "3      [246283, 189825, 269798, 182540, 360915, 37416...      0\n",
       "4      [377946, 260760, 325899, 867, 164328, 297112, ...      0\n",
       "...                                                  ...    ...\n",
       "40427  [185457, 170714, 302207, 337259, 307261, 31974...      1\n",
       "40428  [185457, 383514, 254961, 348374, 142250, 38630...      0\n",
       "40429  [394475, 90548, 384428, 357266, 181430, 88126,...      1\n",
       "40430  [185457, 222477, 264612, 44608, 358160, 129285...      0\n",
       "40431  [185457, 389836, 188481, 357266, 384638, 18946...      1\n",
       "\n",
       "[40432 rows x 2 columns]"
      ]
     },
     "execution_count": 2,
     "metadata": {},
     "output_type": "execute_result"
    }
   ],
   "source": [
    "df=pd.read_csv('Data/final_labeled_dataset.csv')\n",
    "df"
   ]
  },
  {
   "cell_type": "code",
   "execution_count": 3,
   "id": "6b683d84-40c5-48d7-9e0f-980032e4990a",
   "metadata": {},
   "outputs": [
    {
     "name": "stdout",
     "output_type": "stream",
     "text": [
      "count 0 class: 20216\n",
      "count 1 class: 20216\n"
     ]
    }
   ],
   "source": [
    "cnt0=0\n",
    "cnt1=0\n",
    "for x in (df['label']):\n",
    "    if(x==0):\n",
    "        cnt0+=1\n",
    "    else:\n",
    "        cnt1+=1\n",
    "print(\"count 0 class:\",cnt0)\n",
    "print(\"count 1 class:\",cnt1)"
   ]
  },
  {
   "cell_type": "code",
   "execution_count": 4,
   "id": "531df04d-ee37-4d08-8a64-fb5beb9369c7",
   "metadata": {},
   "outputs": [
    {
     "name": "stdout",
     "output_type": "stream",
     "text": [
      "Datasets saved successfully: train.csv, dev.csv, test.csv\n"
     ]
    }
   ],
   "source": [
    "from sklearn.model_selection import train_test_split\n",
    "\n",
    "# Load dataset\n",
    "df = pd.read_csv(\"Data/final_labeled_dataset.csv\")\n",
    "\n",
    "# Separate features and labels\n",
    "X = df['padded_indices']\n",
    "y = df['label']\n",
    "\n",
    "# First, split into train (70%) and temp (30%) while keeping class balance\n",
    "X_train, X_temp, y_train, y_temp = train_test_split(X, y, test_size=0.30, stratify=y, random_state=42)\n",
    "\n",
    "# Split temp into dev (15%) and test (15%)\n",
    "X_dev, X_test, y_dev, y_test = train_test_split(X_temp, y_temp, test_size=0.50, stratify=y_temp, random_state=42)\n",
    "\n",
    "# Combine back into DataFrames\n",
    "train_df = pd.DataFrame({'padded_indices': X_train, 'label': y_train})\n",
    "dev_df = pd.DataFrame({'padded_indices': X_dev, 'label': y_dev})\n",
    "test_df = pd.DataFrame({'padded_indices': X_test, 'label': y_test})\n",
    "\n",
    "# Save files\n",
    "train_df.to_csv(\"Data/train.csv\", index=False)\n",
    "dev_df.to_csv(\"Data/dev.csv\", index=False)\n",
    "test_df.to_csv(\"Data/test.csv\", index=False)\n",
    "\n",
    "print(\"Datasets saved successfully: train.csv, dev.csv, test.csv\")\n"
   ]
  },
  {
   "cell_type": "code",
   "execution_count": 5,
   "id": "411b6987-099f-42e3-bdf9-8253646e88ef",
   "metadata": {},
   "outputs": [],
   "source": [
    "def verify(df):\n",
    "    cnt0=0\n",
    "    cnt1=0\n",
    "    for x in (df['label']):\n",
    "        if(x==0):\n",
    "            cnt0+=1\n",
    "        else:\n",
    "            cnt1+=1\n",
    "    print(\"count 0 class:\",cnt0)\n",
    "    print(\"count 1 class:\",cnt1)"
   ]
  },
  {
   "cell_type": "code",
   "execution_count": 6,
   "id": "6ce159de-ef59-4b0b-99e4-9576a268c372",
   "metadata": {},
   "outputs": [
    {
     "name": "stdout",
     "output_type": "stream",
     "text": [
      "count 0 class: 3033\n",
      "count 1 class: 3032\n"
     ]
    }
   ],
   "source": [
    "verify((pd.read_csv('Data/test.csv')))"
   ]
  }
 ],
 "metadata": {
  "kernelspec": {
   "display_name": "Python 3 (ipykernel)",
   "language": "python",
   "name": "python3"
  },
  "language_info": {
   "codemirror_mode": {
    "name": "ipython",
    "version": 3
   },
   "file_extension": ".py",
   "mimetype": "text/x-python",
   "name": "python",
   "nbconvert_exporter": "python",
   "pygments_lexer": "ipython3",
   "version": "3.11.9"
  }
 },
 "nbformat": 4,
 "nbformat_minor": 5
}
