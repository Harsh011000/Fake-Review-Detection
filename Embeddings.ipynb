{
 "cells": [
  {
   "cell_type": "code",
   "execution_count": 19,
   "id": "f6044f3a-0541-467a-903c-1ac53951ad6b",
   "metadata": {},
   "outputs": [],
   "source": [
    "import numpy as np"
   ]
  },
  {
   "cell_type": "code",
   "execution_count": 5,
   "id": "bf202a19-7205-4d66-9493-8a75be4e93e1",
   "metadata": {},
   "outputs": [
    {
     "name": "stdout",
     "output_type": "stream",
     "text": [
      "['did', 'someone', 'say', ',', '``', 'oriental', 'for', '$', '60', \"''\", '?', 'it', 'is', 'a', 'great', 'product', 'for', 'the']\n"
     ]
    },
    {
     "name": "stderr",
     "output_type": "stream",
     "text": [
      "[nltk_data] Downloading package punkt to\n",
      "[nltk_data]     C:\\Users\\panwa\\AppData\\Roaming\\nltk_data...\n",
      "[nltk_data]   Package punkt is already up-to-date!\n",
      "[nltk_data] Downloading package punkt_tab to\n",
      "[nltk_data]     C:\\Users\\panwa\\AppData\\Roaming\\nltk_data...\n",
      "[nltk_data]   Package punkt_tab is already up-to-date!\n"
     ]
    }
   ],
   "source": [
    "import nltk\n",
    "from nltk.tokenize import word_tokenize\n",
    "\n",
    "# Download the tokenizer if you haven't already\n",
    "nltk.download('punkt')\n",
    "nltk.download('punkt_tab')\n",
    "\n",
    "# Example sentence\n",
    "sentence = \"Did someone say, \\\"Oriental for $60\\\"?  It is a great product for the\".lower()\n",
    "\n",
    "# Tokenizing the sentence\n",
    "tokens = word_tokenize(sentence)\n",
    "\n",
    "print(tokens)\n"
   ]
  },
  {
   "cell_type": "code",
   "execution_count": 20,
   "id": "8cfaa317-d45b-4951-98a7-95a686ea7c96",
   "metadata": {},
   "outputs": [],
   "source": [
    "def read_glove_vecs(glove_file):\n",
    "    with open(glove_file, 'r',encoding='utf-8') as f:\n",
    "        words = set()\n",
    "        word_to_vec_map = {}\n",
    "        for line in f:\n",
    "            line = line.strip().split()\n",
    "            curr_word = line[0]\n",
    "            words.add(curr_word)\n",
    "            word_to_vec_map[curr_word] = np.array(line[1:], dtype=np.float64)\n",
    "        \n",
    "        i = 1\n",
    "        words_to_index = {}\n",
    "        index_to_words = {}\n",
    "        for w in sorted(words):\n",
    "            words_to_index[w] = i\n",
    "            index_to_words[i] = w\n",
    "            i = i + 1\n",
    "    return words_to_index, index_to_words, word_to_vec_map"
   ]
  },
  {
   "cell_type": "code",
   "execution_count": 21,
   "id": "85267e54-1b33-49b2-a5ef-6f5fb9bbbc94",
   "metadata": {},
   "outputs": [],
   "source": [
    "word_to_index, index_to_word, word_to_vec_map = read_glove_vecs('Embeddings/glove.6B.50d.txt')"
   ]
  },
  {
   "cell_type": "code",
   "execution_count": 39,
   "id": "3b5313e0-2e43-4edc-a633-b27ef6276bab",
   "metadata": {},
   "outputs": [
    {
     "data": {
      "text/plain": [
       "['word_to_index.joblib']"
      ]
     },
     "execution_count": 39,
     "metadata": {},
     "output_type": "execute_result"
    }
   ],
   "source": [
    "from joblib import dump\n",
    "\n",
    "dump(word_to_index,\"Embeddings/word_to_index.joblib\")"
   ]
  },
  {
   "cell_type": "code",
   "execution_count": 41,
   "id": "85f36038-a517-4ac7-a5a7-3d356c369852",
   "metadata": {},
   "outputs": [
    {
     "data": {
      "text/plain": [
       "['word_to_vec.joblib']"
      ]
     },
     "execution_count": 41,
     "metadata": {},
     "output_type": "execute_result"
    }
   ],
   "source": [
    "dump(index_to_word,\"Embeddings/index_to_word.joblib\")\n",
    "dump(word_to_vec_map,\"Embeddings/word_to_vec.joblib\")"
   ]
  },
  {
   "cell_type": "code",
   "execution_count": 42,
   "id": "e0db61ed-d0b1-4ad8-bdba-b4b9a95d933e",
   "metadata": {},
   "outputs": [],
   "source": [
    "vocab_size = len(word_to_index) + 1              # adding 1 to fit Keras embedding (requirement)\n",
    "any_word = next(iter(word_to_vec_map.keys()))\n",
    "emb_dim = word_to_vec_map[any_word].shape[0]    # define dimensionality of your GloVe word vectors (= 50)\n",
    "  \n",
    "### START CODE HERE ###\n",
    "# Step 1\n",
    "# Initialize the embedding matrix as a numpy array of zeros.\n",
    "# See instructions above to choose the correct shape.\n",
    "emb_matrix = np.zeros((vocab_size,emb_dim))\n",
    "\n",
    "# Step 2\n",
    "# Set each row \"idx\" of the embedding matrix to be \n",
    "# the word vector representation of the idx'th word of the vocabulary\n",
    "for word, idx in word_to_index.items():\n",
    "    emb_matrix[idx, :] = word_to_vec_map[word]"
   ]
  },
  {
   "cell_type": "code",
   "execution_count": 43,
   "id": "538cc099-2475-4d70-a9ad-0e2eef11af4f",
   "metadata": {},
   "outputs": [
    {
     "data": {
      "text/plain": [
       "(400001, 50)"
      ]
     },
     "execution_count": 43,
     "metadata": {},
     "output_type": "execute_result"
    }
   ],
   "source": [
    "emb_matrix.shape"
   ]
  },
  {
   "cell_type": "code",
   "execution_count": 46,
   "id": "3023946c-b685-40cc-924b-8a386f3675d1",
   "metadata": {},
   "outputs": [
    {
     "data": {
      "text/plain": [
       "array([0., 0., 0., 0., 0., 0., 0., 0., 0., 0., 0., 0., 0., 0., 0., 0., 0.,\n",
       "       0., 0., 0., 0., 0., 0., 0., 0., 0., 0., 0., 0., 0., 0., 0., 0., 0.,\n",
       "       0., 0., 0., 0., 0., 0., 0., 0., 0., 0., 0., 0., 0., 0., 0., 0.])"
      ]
     },
     "execution_count": 46,
     "metadata": {},
     "output_type": "execute_result"
    }
   ],
   "source": [
    "emb_matrix[0]"
   ]
  },
  {
   "cell_type": "code",
   "execution_count": 47,
   "id": "95570ca9-f9a6-47ec-8517-73cde5d6031e",
   "metadata": {},
   "outputs": [
    {
     "data": {
      "text/plain": [
       "['Embedding Matrix.joblib']"
      ]
     },
     "execution_count": 47,
     "metadata": {},
     "output_type": "execute_result"
    }
   ],
   "source": [
    "dump(emb_matrix,\"Embeddings/Embedding Matrix.joblib\")"
   ]
  }
 ],
 "metadata": {
  "kernelspec": {
   "display_name": "Python 3 (ipykernel)",
   "language": "python",
   "name": "python3"
  },
  "language_info": {
   "codemirror_mode": {
    "name": "ipython",
    "version": 3
   },
   "file_extension": ".py",
   "mimetype": "text/x-python",
   "name": "python",
   "nbconvert_exporter": "python",
   "pygments_lexer": "ipython3",
   "version": "3.11.11"
  }
 },
 "nbformat": 4,
 "nbformat_minor": 5
}
